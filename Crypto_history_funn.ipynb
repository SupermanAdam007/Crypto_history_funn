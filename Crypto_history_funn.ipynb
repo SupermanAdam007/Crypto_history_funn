{
 "cells": [
  {
   "cell_type": "code",
   "execution_count": 1,
   "metadata": {},
   "outputs": [
    {
     "data": {
      "text/html": [
       "<style>.container { width:95% !important; }</style>"
      ],
      "text/plain": [
       "<IPython.core.display.HTML object>"
      ]
     },
     "metadata": {},
     "output_type": "display_data"
    }
   ],
   "source": [
    "import importlib\n",
    "\n",
    "import down_data\n",
    "importlib.reload(down_data)\n",
    "\n",
    "import virtual_market\n",
    "importlib.reload(virtual_market)\n",
    "\n",
    "import pandas as pd\n",
    "import numpy as np\n",
    "import time\n",
    "\n",
    "from IPython.core.display import display, HTML\n",
    "display(HTML(\"<style>.container { width:95% !important; }</style>\"))\n",
    "pd.options.display.max_colwidth = 100\n",
    "%matplotlib inline"
   ]
  },
  {
   "cell_type": "code",
   "execution_count": 2,
   "metadata": {
    "collapsed": true
   },
   "outputs": [],
   "source": [
    "def extract_coin_columns(df, coin_name):\n",
    "    return df.loc[:, df.columns.str.endswith('_' + coin_name)]\n",
    "\n",
    "def plot_coin(df):\n",
    "    coin_name = df.columns[0].split('_')[1]\n",
    "    \n",
    "    ax = df.loc[:, df.columns.str.startswith('open')].plot(figsize=(20,10), title=coin_name, style='.-')\n",
    "    ax = df.loc[:, df.columns.str.startswith('close')].plot(figsize=(20,10), ax=ax, style='.-')\n",
    "    ax = df.loc[:, df.columns.str.startswith('high')].plot(figsize=(20,10), ax=ax, style='.-')\n",
    "    df.loc[:, df.columns.str.startswith('low')].plot(figsize=(20,10), ax=ax, style='.-')"
   ]
  },
  {
   "cell_type": "code",
   "execution_count": 3,
   "metadata": {
    "collapsed": true
   },
   "outputs": [],
   "source": [
    "coins_list_btc_small = ['SYS','BCN','DGB']\n",
    "coins_list_btc = ['SYS','BCN','DGB','LBC','NOTE','PASC','NAUT','SC','NEOS','ETH','ZEC','MAID','XRP',\n",
    "                  'BTS','XEM','SBD','STRAT','LTC','AMP','BCY','ETC','ARDR','POT','NXT','BELA','XBC',\n",
    "                  'BTCD','XMR','NXC','XCP','DCR','BLK','RIC','STEEM','NMC','PINK','OMNI','SJCX','NAV']\n",
    "coins_list_btc_bcn = ['BCN']"
   ]
  },
  {
   "cell_type": "code",
   "execution_count": 4,
   "metadata": {
    "collapsed": true
   },
   "outputs": [],
   "source": [
    "down = down_data.Downloader()"
   ]
  },
  {
   "cell_type": "code",
   "execution_count": 110,
   "metadata": {
    "scrolled": true
   },
   "outputs": [
    {
     "name": "stdout",
     "output_type": "stream",
     "text": [
      "BCN 1 39\n",
      "get_histominute request: https://min-api.cryptocompare.com/data/histominute?&fsym=BCN&tsym=BTC&limit=1440&aggregate=1&e=Poloniex\n"
     ]
    }
   ],
   "source": [
    "df_big = pd.DataFrame()\n",
    "df_small = pd.DataFrame\n",
    "coin_btc_previous = ''\n",
    "limit = 1440\n",
    "aggregate = 1\n",
    "counter = 0\n",
    "t_horiz = 'minute' #'hour'\n",
    "\n",
    "for coin_btc in coins_list_btc_bcn:\n",
    "    counter += 1\n",
    "    print(coin_btc, counter, len(coins_list_btc))\n",
    "    histo = down.get_histo_json(coin_btc, 'BTC', limit=limit, aggregate=aggregate, t_horiz=t_horiz)\n",
    "    if len(df_big) == 0:\n",
    "        df_big = pd.DataFrame(histo['Data']).add_suffix('_' + coin_btc).rename(columns={'time_'+coin_btc:'time'})\n",
    "    else:\n",
    "        df_small = pd.DataFrame(histo['Data']).add_suffix('_' + coin_btc).rename(columns={'time_'+coin_btc:'time'})\n",
    "        df_big = pd.merge(df_big, df_small, on='time')\n",
    "    time.sleep(0.5)\n",
    "df_big = df_big.set_index('time')\n",
    "df_big.index = pd.to_datetime(df_big.index, unit='s')"
   ]
  },
  {
   "cell_type": "code",
   "execution_count": 111,
   "metadata": {},
   "outputs": [],
   "source": [
    "df_bcn = extract_coin_columns(df=df_big, coin_name='BCN')"
   ]
  },
  {
   "cell_type": "code",
   "execution_count": 112,
   "metadata": {
    "collapsed": true
   },
   "outputs": [],
   "source": [
    "#df_bcn.to_csv('df_bcn.csv')"
   ]
  },
  {
   "cell_type": "code",
   "execution_count": 113,
   "metadata": {
    "scrolled": false
   },
   "outputs": [
    {
     "data": {
      "text/html": [
       "<div>\n",
       "<style>\n",
       "    .dataframe thead tr:only-child th {\n",
       "        text-align: right;\n",
       "    }\n",
       "\n",
       "    .dataframe thead th {\n",
       "        text-align: left;\n",
       "    }\n",
       "\n",
       "    .dataframe tbody tr th {\n",
       "        vertical-align: top;\n",
       "    }\n",
       "</style>\n",
       "<table border=\"1\" class=\"dataframe\">\n",
       "  <thead>\n",
       "    <tr style=\"text-align: right;\">\n",
       "      <th></th>\n",
       "      <th>close_BCN</th>\n",
       "      <th>high_BCN</th>\n",
       "      <th>low_BCN</th>\n",
       "      <th>open_BCN</th>\n",
       "      <th>volumefrom_BCN</th>\n",
       "      <th>volumeto_BCN</th>\n",
       "    </tr>\n",
       "    <tr>\n",
       "      <th>time</th>\n",
       "      <th></th>\n",
       "      <th></th>\n",
       "      <th></th>\n",
       "      <th></th>\n",
       "      <th></th>\n",
       "      <th></th>\n",
       "    </tr>\n",
       "  </thead>\n",
       "  <tbody>\n",
       "    <tr>\n",
       "      <th>2017-09-17 14:16:00</th>\n",
       "      <td>3.400000e-07</td>\n",
       "      <td>3.500000e-07</td>\n",
       "      <td>3.400000e-07</td>\n",
       "      <td>3.400000e-07</td>\n",
       "      <td>22622.39</td>\n",
       "      <td>0.007720</td>\n",
       "    </tr>\n",
       "    <tr>\n",
       "      <th>2017-09-17 14:17:00</th>\n",
       "      <td>3.500000e-07</td>\n",
       "      <td>3.500000e-07</td>\n",
       "      <td>3.400000e-07</td>\n",
       "      <td>3.400000e-07</td>\n",
       "      <td>615.49</td>\n",
       "      <td>0.000215</td>\n",
       "    </tr>\n",
       "    <tr>\n",
       "      <th>2017-09-17 14:18:00</th>\n",
       "      <td>3.500000e-07</td>\n",
       "      <td>3.500000e-07</td>\n",
       "      <td>3.400000e-07</td>\n",
       "      <td>3.500000e-07</td>\n",
       "      <td>85635.35</td>\n",
       "      <td>0.029970</td>\n",
       "    </tr>\n",
       "    <tr>\n",
       "      <th>2017-09-17 14:19:00</th>\n",
       "      <td>3.500000e-07</td>\n",
       "      <td>3.500000e-07</td>\n",
       "      <td>3.500000e-07</td>\n",
       "      <td>3.500000e-07</td>\n",
       "      <td>0.00</td>\n",
       "      <td>0.000000</td>\n",
       "    </tr>\n",
       "    <tr>\n",
       "      <th>2017-09-17 14:20:00</th>\n",
       "      <td>3.300000e-07</td>\n",
       "      <td>3.500000e-07</td>\n",
       "      <td>3.300000e-07</td>\n",
       "      <td>3.500000e-07</td>\n",
       "      <td>4304187.89</td>\n",
       "      <td>1.420000</td>\n",
       "    </tr>\n",
       "    <tr>\n",
       "      <th>2017-09-17 14:21:00</th>\n",
       "      <td>3.300000e-07</td>\n",
       "      <td>3.300000e-07</td>\n",
       "      <td>3.300000e-07</td>\n",
       "      <td>3.300000e-07</td>\n",
       "      <td>0.00</td>\n",
       "      <td>0.000000</td>\n",
       "    </tr>\n",
       "    <tr>\n",
       "      <th>2017-09-17 14:22:00</th>\n",
       "      <td>3.500000e-07</td>\n",
       "      <td>3.500000e-07</td>\n",
       "      <td>3.300000e-07</td>\n",
       "      <td>3.300000e-07</td>\n",
       "      <td>1126.36</td>\n",
       "      <td>0.000394</td>\n",
       "    </tr>\n",
       "    <tr>\n",
       "      <th>2017-09-17 14:23:00</th>\n",
       "      <td>3.500000e-07</td>\n",
       "      <td>3.500000e-07</td>\n",
       "      <td>3.500000e-07</td>\n",
       "      <td>3.500000e-07</td>\n",
       "      <td>0.00</td>\n",
       "      <td>0.000000</td>\n",
       "    </tr>\n",
       "    <tr>\n",
       "      <th>2017-09-17 14:24:00</th>\n",
       "      <td>3.500000e-07</td>\n",
       "      <td>3.500000e-07</td>\n",
       "      <td>3.500000e-07</td>\n",
       "      <td>3.500000e-07</td>\n",
       "      <td>314.29</td>\n",
       "      <td>0.000110</td>\n",
       "    </tr>\n",
       "    <tr>\n",
       "      <th>2017-09-17 14:25:00</th>\n",
       "      <td>3.400000e-07</td>\n",
       "      <td>3.500000e-07</td>\n",
       "      <td>3.400000e-07</td>\n",
       "      <td>3.500000e-07</td>\n",
       "      <td>5501.14</td>\n",
       "      <td>0.001870</td>\n",
       "    </tr>\n",
       "    <tr>\n",
       "      <th>2017-09-17 14:26:00</th>\n",
       "      <td>3.400000e-07</td>\n",
       "      <td>3.400000e-07</td>\n",
       "      <td>3.400000e-07</td>\n",
       "      <td>3.400000e-07</td>\n",
       "      <td>0.00</td>\n",
       "      <td>0.000000</td>\n",
       "    </tr>\n",
       "    <tr>\n",
       "      <th>2017-09-17 14:27:00</th>\n",
       "      <td>3.400000e-07</td>\n",
       "      <td>3.400000e-07</td>\n",
       "      <td>3.400000e-07</td>\n",
       "      <td>3.400000e-07</td>\n",
       "      <td>0.00</td>\n",
       "      <td>0.000000</td>\n",
       "    </tr>\n",
       "    <tr>\n",
       "      <th>2017-09-17 14:28:00</th>\n",
       "      <td>3.400000e-07</td>\n",
       "      <td>3.400000e-07</td>\n",
       "      <td>3.400000e-07</td>\n",
       "      <td>3.400000e-07</td>\n",
       "      <td>0.00</td>\n",
       "      <td>0.000000</td>\n",
       "    </tr>\n",
       "    <tr>\n",
       "      <th>2017-09-17 14:29:00</th>\n",
       "      <td>3.400000e-07</td>\n",
       "      <td>3.400000e-07</td>\n",
       "      <td>3.400000e-07</td>\n",
       "      <td>3.400000e-07</td>\n",
       "      <td>0.00</td>\n",
       "      <td>0.000000</td>\n",
       "    </tr>\n",
       "    <tr>\n",
       "      <th>2017-09-17 14:30:00</th>\n",
       "      <td>3.500000e-07</td>\n",
       "      <td>3.500000e-07</td>\n",
       "      <td>3.400000e-07</td>\n",
       "      <td>3.400000e-07</td>\n",
       "      <td>1751.46</td>\n",
       "      <td>0.000613</td>\n",
       "    </tr>\n",
       "    <tr>\n",
       "      <th>2017-09-17 14:31:00</th>\n",
       "      <td>3.400000e-07</td>\n",
       "      <td>3.500000e-07</td>\n",
       "      <td>3.400000e-07</td>\n",
       "      <td>3.500000e-07</td>\n",
       "      <td>1602.81</td>\n",
       "      <td>0.000556</td>\n",
       "    </tr>\n",
       "    <tr>\n",
       "      <th>2017-09-17 14:32:00</th>\n",
       "      <td>3.400000e-07</td>\n",
       "      <td>3.400000e-07</td>\n",
       "      <td>3.400000e-07</td>\n",
       "      <td>3.400000e-07</td>\n",
       "      <td>300.37</td>\n",
       "      <td>0.000102</td>\n",
       "    </tr>\n",
       "    <tr>\n",
       "      <th>2017-09-17 14:33:00</th>\n",
       "      <td>3.400000e-07</td>\n",
       "      <td>3.400000e-07</td>\n",
       "      <td>3.400000e-07</td>\n",
       "      <td>3.400000e-07</td>\n",
       "      <td>0.00</td>\n",
       "      <td>0.000000</td>\n",
       "    </tr>\n",
       "    <tr>\n",
       "      <th>2017-09-17 14:34:00</th>\n",
       "      <td>3.500000e-07</td>\n",
       "      <td>3.500000e-07</td>\n",
       "      <td>3.400000e-07</td>\n",
       "      <td>3.400000e-07</td>\n",
       "      <td>93679.85</td>\n",
       "      <td>0.032730</td>\n",
       "    </tr>\n",
       "    <tr>\n",
       "      <th>2017-09-17 14:35:00</th>\n",
       "      <td>3.400000e-07</td>\n",
       "      <td>3.500000e-07</td>\n",
       "      <td>3.400000e-07</td>\n",
       "      <td>3.500000e-07</td>\n",
       "      <td>36595.36</td>\n",
       "      <td>0.012450</td>\n",
       "    </tr>\n",
       "  </tbody>\n",
       "</table>\n",
       "</div>"
      ],
      "text/plain": [
       "                        close_BCN      high_BCN       low_BCN      open_BCN  \\\n",
       "time                                                                          \n",
       "2017-09-17 14:16:00  3.400000e-07  3.500000e-07  3.400000e-07  3.400000e-07   \n",
       "2017-09-17 14:17:00  3.500000e-07  3.500000e-07  3.400000e-07  3.400000e-07   \n",
       "2017-09-17 14:18:00  3.500000e-07  3.500000e-07  3.400000e-07  3.500000e-07   \n",
       "2017-09-17 14:19:00  3.500000e-07  3.500000e-07  3.500000e-07  3.500000e-07   \n",
       "2017-09-17 14:20:00  3.300000e-07  3.500000e-07  3.300000e-07  3.500000e-07   \n",
       "2017-09-17 14:21:00  3.300000e-07  3.300000e-07  3.300000e-07  3.300000e-07   \n",
       "2017-09-17 14:22:00  3.500000e-07  3.500000e-07  3.300000e-07  3.300000e-07   \n",
       "2017-09-17 14:23:00  3.500000e-07  3.500000e-07  3.500000e-07  3.500000e-07   \n",
       "2017-09-17 14:24:00  3.500000e-07  3.500000e-07  3.500000e-07  3.500000e-07   \n",
       "2017-09-17 14:25:00  3.400000e-07  3.500000e-07  3.400000e-07  3.500000e-07   \n",
       "2017-09-17 14:26:00  3.400000e-07  3.400000e-07  3.400000e-07  3.400000e-07   \n",
       "2017-09-17 14:27:00  3.400000e-07  3.400000e-07  3.400000e-07  3.400000e-07   \n",
       "2017-09-17 14:28:00  3.400000e-07  3.400000e-07  3.400000e-07  3.400000e-07   \n",
       "2017-09-17 14:29:00  3.400000e-07  3.400000e-07  3.400000e-07  3.400000e-07   \n",
       "2017-09-17 14:30:00  3.500000e-07  3.500000e-07  3.400000e-07  3.400000e-07   \n",
       "2017-09-17 14:31:00  3.400000e-07  3.500000e-07  3.400000e-07  3.500000e-07   \n",
       "2017-09-17 14:32:00  3.400000e-07  3.400000e-07  3.400000e-07  3.400000e-07   \n",
       "2017-09-17 14:33:00  3.400000e-07  3.400000e-07  3.400000e-07  3.400000e-07   \n",
       "2017-09-17 14:34:00  3.500000e-07  3.500000e-07  3.400000e-07  3.400000e-07   \n",
       "2017-09-17 14:35:00  3.400000e-07  3.500000e-07  3.400000e-07  3.500000e-07   \n",
       "\n",
       "                     volumefrom_BCN  volumeto_BCN  \n",
       "time                                               \n",
       "2017-09-17 14:16:00        22622.39      0.007720  \n",
       "2017-09-17 14:17:00          615.49      0.000215  \n",
       "2017-09-17 14:18:00        85635.35      0.029970  \n",
       "2017-09-17 14:19:00            0.00      0.000000  \n",
       "2017-09-17 14:20:00      4304187.89      1.420000  \n",
       "2017-09-17 14:21:00            0.00      0.000000  \n",
       "2017-09-17 14:22:00         1126.36      0.000394  \n",
       "2017-09-17 14:23:00            0.00      0.000000  \n",
       "2017-09-17 14:24:00          314.29      0.000110  \n",
       "2017-09-17 14:25:00         5501.14      0.001870  \n",
       "2017-09-17 14:26:00            0.00      0.000000  \n",
       "2017-09-17 14:27:00            0.00      0.000000  \n",
       "2017-09-17 14:28:00            0.00      0.000000  \n",
       "2017-09-17 14:29:00            0.00      0.000000  \n",
       "2017-09-17 14:30:00         1751.46      0.000613  \n",
       "2017-09-17 14:31:00         1602.81      0.000556  \n",
       "2017-09-17 14:32:00          300.37      0.000102  \n",
       "2017-09-17 14:33:00            0.00      0.000000  \n",
       "2017-09-17 14:34:00        93679.85      0.032730  \n",
       "2017-09-17 14:35:00        36595.36      0.012450  "
      ]
     },
     "execution_count": 113,
     "metadata": {},
     "output_type": "execute_result"
    }
   ],
   "source": [
    "df_bcn.head(20)"
   ]
  },
  {
   "cell_type": "code",
   "execution_count": 114,
   "metadata": {},
   "outputs": [
    {
     "data": {
      "text/html": [
       "<div>\n",
       "<style>\n",
       "    .dataframe thead tr:only-child th {\n",
       "        text-align: right;\n",
       "    }\n",
       "\n",
       "    .dataframe thead th {\n",
       "        text-align: left;\n",
       "    }\n",
       "\n",
       "    .dataframe tbody tr th {\n",
       "        vertical-align: top;\n",
       "    }\n",
       "</style>\n",
       "<table border=\"1\" class=\"dataframe\">\n",
       "  <thead>\n",
       "    <tr style=\"text-align: right;\">\n",
       "      <th></th>\n",
       "      <th>close_BCN</th>\n",
       "      <th>high_BCN</th>\n",
       "      <th>low_BCN</th>\n",
       "      <th>open_BCN</th>\n",
       "      <th>volumefrom_BCN</th>\n",
       "      <th>volumeto_BCN</th>\n",
       "    </tr>\n",
       "    <tr>\n",
       "      <th>time</th>\n",
       "      <th></th>\n",
       "      <th></th>\n",
       "      <th></th>\n",
       "      <th></th>\n",
       "      <th></th>\n",
       "      <th></th>\n",
       "    </tr>\n",
       "  </thead>\n",
       "  <tbody>\n",
       "    <tr>\n",
       "      <th>2017-09-18 14:15:00</th>\n",
       "      <td>3.500000e-07</td>\n",
       "      <td>3.600000e-07</td>\n",
       "      <td>3.500000e-07</td>\n",
       "      <td>3.600000e-07</td>\n",
       "      <td>36999.61</td>\n",
       "      <td>0.01295</td>\n",
       "    </tr>\n",
       "    <tr>\n",
       "      <th>2017-09-18 14:16:00</th>\n",
       "      <td>3.500000e-07</td>\n",
       "      <td>3.500000e-07</td>\n",
       "      <td>3.500000e-07</td>\n",
       "      <td>3.500000e-07</td>\n",
       "      <td>0.00</td>\n",
       "      <td>0.00000</td>\n",
       "    </tr>\n",
       "  </tbody>\n",
       "</table>\n",
       "</div>"
      ],
      "text/plain": [
       "                        close_BCN      high_BCN       low_BCN      open_BCN  \\\n",
       "time                                                                          \n",
       "2017-09-18 14:15:00  3.500000e-07  3.600000e-07  3.500000e-07  3.600000e-07   \n",
       "2017-09-18 14:16:00  3.500000e-07  3.500000e-07  3.500000e-07  3.500000e-07   \n",
       "\n",
       "                     volumefrom_BCN  volumeto_BCN  \n",
       "time                                               \n",
       "2017-09-18 14:15:00        36999.61       0.01295  \n",
       "2017-09-18 14:16:00            0.00       0.00000  "
      ]
     },
     "execution_count": 114,
     "metadata": {},
     "output_type": "execute_result"
    }
   ],
   "source": [
    "df_bcn.tail(2)"
   ]
  },
  {
   "cell_type": "code",
   "execution_count": 115,
   "metadata": {
    "collapsed": true
   },
   "outputs": [],
   "source": [
    "#ax = df_bcn.open_BCN.plot()\n",
    "#i = 5\n",
    "#df_bcn.open_BCN.shift(-int(i/2)).rolling(window=i).mean().plot(figsize=(20,10), ax=ax)"
   ]
  },
  {
   "cell_type": "code",
   "execution_count": 116,
   "metadata": {},
   "outputs": [],
   "source": [
    "df_bcn['open_BCN_diff'] = 100*df_bcn.open_BCN.diff()/df_bcn.open_BCN    #df_bcn.open_BCN.shift(1)/df_bcn.open_BCN\n",
    "df_bcn.open_BCN_diff = df_bcn.open_BCN_diff.fillna(value=0)"
   ]
  },
  {
   "cell_type": "code",
   "execution_count": 122,
   "metadata": {
    "scrolled": false
   },
   "outputs": [
    {
     "data": {
      "text/plain": [
       "<matplotlib.axes._subplots.AxesSubplot at 0x1e38097af60>"
      ]
     },
     "execution_count": 122,
     "metadata": {},
     "output_type": "execute_result"
    },
    {
     "data": {
      "image/png": "[encoded data removed]",
      "text/plain": [
       "<matplotlib.figure.Figure at 0x1e380a56eb8>"
      ]
     },
     "metadata": {},
     "output_type": "display_data"
    }
   ],
   "source": [
    "df_bcn.open_BCN_diff.head(100).plot(figsize=(30,10), yticks=np.round(np.arange(min(df_bcn.open_BCN_diff)-1, max(df_bcn.open_BCN_diff)+1, 1)), grid=True)"
   ]
  },
  {
   "cell_type": "code",
   "execution_count": null,
   "metadata": {
    "collapsed": true
   },
   "outputs": [],
   "source": []
  },
  {
   "cell_type": "code",
   "execution_count": 104,
   "metadata": {},
   "outputs": [
    {
     "data": {
      "text/plain": [
       "<module 'virtual_market' from 'D:\\\\work\\\\cr\\\\Crypto_history_funn\\\\virtual_market.py'>"
      ]
     },
     "execution_count": 104,
     "metadata": {},
     "output_type": "execute_result"
    }
   ],
   "source": [
    "import virtual_market\n",
    "importlib.reload(virtual_market)"
   ]
  },
  {
   "cell_type": "code",
   "execution_count": 106,
   "metadata": {
    "scrolled": false
   },
   "outputs": [
    {
     "name": "stdout",
     "output_type": "stream",
     "text": [
      "4\n",
      "3\n",
      "All not null coins have:\n",
      "BCN 120000\n",
      "Total status:\n",
      "USD: 173.168658\n",
      "Total status:\n",
      "USD: 177.9184548\n",
      "Total status:\n",
      "USD: 175.34951279999999\n",
      "Total status:\n",
      "USD: 180.0993096\n",
      "Total status:\n",
      "USD: 177.53036759999998\n",
      "Total status:\n",
      "USD: 182.2801644\n",
      "Total status:\n",
      "USD: 179.71122239999997\n",
      "\n",
      "All not null coins have:\n",
      "BCN 59730.0\n",
      "BTC 0.022673999999999996\n",
      "\n",
      "buysell_dont: 0\n",
      "buysell_done: 7\n"
     ]
    }
   ],
   "source": [
    "buy = pd.DataFrame(df_bcn.open_BCN_diff[df_bcn.open_BCN_diff < -2])\n",
    "buy['Type'] = 'buy'\n",
    "sell = pd.DataFrame(df_bcn.open_BCN_diff[df_bcn.open_BCN_diff > 2])\n",
    "sell['Type'] = 'sell'\n",
    "buysell = buy.append(sell).sort_index()\n",
    "\n",
    "print(buysell[buysell.Type == 'sell'].shape[0])\n",
    "print(buysell[buysell.Type == 'buy'].shape[0])\n",
    "\n",
    "buysell['Value'] = df_bcn.open_BCN[buysell.index]\n",
    "\n",
    "market = virtual_market.Market(max_opens=10)\n",
    "market.manual_add_to_status('BCN', 120000)\n",
    "market.print_have_not_null()\n",
    "amount = 60000\n",
    "\n",
    "buysell_dont = 0\n",
    "buysell_done = 0\n",
    "\n",
    "print_period = 1\n",
    "\n",
    "num_of_complete = 0\n",
    "\n",
    "verbose = False\n",
    "\n",
    "for index, row in buysell.iterrows():\n",
    "    #print()\n",
    "    #print(index, row['Type'], row['open_BCN_diff'], row['Value'])\n",
    "    if row['Type'] == 'sell':\n",
    "        res = market.sell_bcn(coin_name='BCN', amount=amount, price_btc=row['Value'], verbose=verbose)\n",
    "        if not res:\n",
    "            buysell_dont += 1\n",
    "        else:\n",
    "            buysell_done += 1\n",
    "    if row['Type'] == 'buy':\n",
    "        res = market.buy_bcn(coin_name='BCN', amount=amount, price_btc=row['Value'], verbose=verbose)\n",
    "        if not res:\n",
    "            buysell_dont += 1\n",
    "        else:\n",
    "            buysell_done += 1\n",
    "    num_of_complete += 1\n",
    "    if num_of_complete % print_period == 0:\n",
    "        #print()\n",
    "        market.print_have(['USD'])\n",
    "\n",
    "print()\n",
    "market.print_have_not_null()\n",
    "print()\n",
    "print('buysell_dont:', buysell_dont)\n",
    "print('buysell_done:', buysell_done)"
   ]
  },
  {
   "cell_type": "code",
   "execution_count": null,
   "metadata": {},
   "outputs": [],
   "source": [
    "status = dict()\n",
    "for coin_btc in coins_list_btc:\n",
    "    status[coin_btc] = 0\n",
    "status['BCN'] = 925\n",
    "status['BTC'] = 0.00019971\n",
    "status['ETH'] = 0.31975971\n",
    "status['XMR'] = 0.74184108"
   ]
  },
  {
   "cell_type": "code",
   "execution_count": 16,
   "metadata": {},
   "outputs": [
    {
     "name": "stdout",
     "output_type": "stream",
     "text": [
      "BCN 925\n",
      "ETH 0.31975971\n",
      "XMR 0.74184108\n",
      "BTC 0.00019971\n"
     ]
    }
   ],
   "source": [
    "for status_coin in status:\n",
    "    amount = status[status_coin]\n",
    "    if amount > 0:\n",
    "        print(status_coin, amount)"
   ]
  },
  {
   "cell_type": "code",
   "execution_count": 22,
   "metadata": {
    "collapsed": true
   },
   "outputs": [],
   "source": [
    "def print_have_USD(currencies=['BTC', 'USD', 'CZK']):\n",
    "    down = down_data.Downloader()\n",
    "    coins_btc_price = down.get_pricemulti_json(coins_list_btc, ['BTC'], verbose=False)\n",
    "    btc_price = down.get_pricemulti_json(['BTC'], ['USD'], verbose=False)['BTC']['USD']\n",
    "    sum_btc = 0\n",
    "    for status_coin in status:\n",
    "        if status_coin != 'BTC':\n",
    "            sum_btc += coins_btc_price[status_coin]['BTC']*status[status_coin]\n",
    "        #print(status_coin, sum_btc)\n",
    "        \n",
    "    sum_btc += status['BTC']\n",
    "    \n",
    "    print('Total status:')\n",
    "    if 'BTC' in currencies:\n",
    "        print('BTC:', sum_btc)\n",
    "    if 'USD' in currencies:\n",
    "        print('USD:', sum_btc*btc_price)\n",
    "    if 'CZK' in currencies:\n",
    "        print('CZK:', sum_btc*btc_price*22)"
   ]
  },
  {
   "cell_type": "code",
   "execution_count": 25,
   "metadata": {
    "scrolled": false
   },
   "outputs": [
    {
     "name": "stdout",
     "output_type": "stream",
     "text": [
      "Total status:\n",
      "BTC: 0.04233426717969999\n"
     ]
    }
   ],
   "source": [
    "print_have_USD(['BTC'])"
   ]
  },
  {
   "cell_type": "code",
   "execution_count": null,
   "metadata": {
    "collapsed": true
   },
   "outputs": [],
   "source": []
  },
  {
   "cell_type": "code",
   "execution_count": null,
   "metadata": {
    "collapsed": true
   },
   "outputs": [],
   "source": []
  },
  {
   "cell_type": "code",
   "execution_count": null,
   "metadata": {
    "collapsed": true
   },
   "outputs": [],
   "source": []
  },
  {
   "cell_type": "code",
   "execution_count": null,
   "metadata": {
    "collapsed": true
   },
   "outputs": [],
   "source": []
  },
  {
   "cell_type": "code",
   "execution_count": null,
   "metadata": {
    "collapsed": true
   },
   "outputs": [],
   "source": []
  },
  {
   "cell_type": "code",
   "execution_count": null,
   "metadata": {
    "collapsed": true
   },
   "outputs": [],
   "source": []
  },
  {
   "cell_type": "code",
   "execution_count": null,
   "metadata": {
    "collapsed": true
   },
   "outputs": [],
   "source": []
  },
  {
   "cell_type": "code",
   "execution_count": null,
   "metadata": {
    "collapsed": true
   },
   "outputs": [],
   "source": []
  }
 ],
 "metadata": {
  "kernelspec": {
   "display_name": "Python 3",
   "language": "python",
   "name": "python3"
  },
  "language_info": {
   "codemirror_mode": {
    "name": "ipython",
    "version": 3
   },
   "file_extension": ".py",
   "mimetype": "text/x-python",
   "name": "python",
   "nbconvert_exporter": "python",
   "pygments_lexer": "ipython3",
   "version": "3.6.1"
  }
 },
 "nbformat": 4,
 "nbformat_minor": 2
}
