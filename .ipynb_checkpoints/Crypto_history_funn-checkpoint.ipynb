{
 "cells": [
  {
   "cell_type": "code",
   "execution_count": 30,
   "metadata": {},
   "outputs": [
    {
     "data": {
      "text/html": [
       "<style>.container { width:95% !important; }</style>"
      ],
      "text/plain": [
       "<IPython.core.display.HTML object>"
      ]
     },
     "metadata": {},
     "output_type": "display_data"
    }
   ],
   "source": [
    "import importlib\n",
    "\n",
    "import down_data\n",
    "importlib.reload(down_data)\n",
    "\n",
    "import virtual_market\n",
    "importlib.reload(virtual_market)\n",
    "\n",
    "import pandas as pd\n",
    "import numpy as np\n",
    "import time\n",
    "\n",
    "from IPython.core.display import display, HTML\n",
    "display(HTML(\"<style>.container { width:95% !important; }</style>\"))\n",
    "pd.options.display.max_colwidth = 100\n",
    "%matplotlib inline"
   ]
  },
  {
   "cell_type": "code",
   "execution_count": 2,
   "metadata": {
    "collapsed": true
   },
   "outputs": [],
   "source": [
    "def extract_coin_columns(df, coin_name):\n",
    "    return df.loc[:, df.columns.str.endswith('_' + coin_name)]\n",
    "\n",
    "def plot_coin(df):\n",
    "    coin_name = df.columns[0].split('_')[1]\n",
    "    \n",
    "    ax = df.loc[:, df.columns.str.startswith('open')].plot(figsize=(20,10), title=coin_name, style='.-')\n",
    "    ax = df.loc[:, df.columns.str.startswith('close')].plot(figsize=(20,10), ax=ax, style='.-')\n",
    "    ax = df.loc[:, df.columns.str.startswith('high')].plot(figsize=(20,10), ax=ax, style='.-')\n",
    "    df.loc[:, df.columns.str.startswith('low')].plot(figsize=(20,10), ax=ax, style='.-')"
   ]
  },
  {
   "cell_type": "code",
   "execution_count": 3,
   "metadata": {
    "collapsed": true
   },
   "outputs": [],
   "source": [
    "coins_list_btc_small = ['SYS','BCN','DGB']\n",
    "coins_list_btc = ['SYS','BCN','DGB','LBC','NOTE','PASC','NAUT','SC','NEOS','ETH','ZEC','MAID','XRP',\n",
    "                  'BTS','XEM','SBD','STRAT','LTC','AMP','BCY','ETC','ARDR','POT','NXT','BELA','XBC',\n",
    "                  'BTCD','XMR','NXC','XCP','DCR','BLK','RIC','STEEM','NMC','PINK','OMNI','SJCX','NAV']\n",
    "coins_list_btc_bcn = ['BCN']"
   ]
  },
  {
   "cell_type": "code",
   "execution_count": 31,
   "metadata": {
    "collapsed": true
   },
   "outputs": [],
   "source": [
    "down = down_data.Downloader()"
   ]
  },
  {
   "cell_type": "code",
   "execution_count": 6,
   "metadata": {
    "scrolled": true
   },
   "outputs": [
    {
     "name": "stdout",
     "output_type": "stream",
     "text": [
      "BCN 1 39\n",
      "get_histominute request: https://min-api.cryptocompare.com/data/histominute?&fsym=BCN&tsym=BTC&limit=1440&aggregate=10&e=Poloniex\n"
     ]
    }
   ],
   "source": [
    "df_big = pd.DataFrame()\n",
    "df_small = pd.DataFrame\n",
    "coin_btc_previous = ''\n",
    "limit = 1440\n",
    "aggregate = 10\n",
    "counter = 0\n",
    "t_horiz = 'minute' #'hour'\n",
    "\n",
    "for coin_btc in coins_list_btc_bcn:\n",
    "    counter += 1\n",
    "    print(coin_btc, counter, len(coins_list_btc))\n",
    "    histo = down.get_histo_json(coin_btc, 'BTC', limit=limit, aggregate=aggregate, t_horiz=t_horiz)\n",
    "    if len(df_big) == 0:\n",
    "        df_big = pd.DataFrame(histo['Data']).add_suffix('_' + coin_btc).rename(columns={'time_'+coin_btc:'time'})\n",
    "    else:\n",
    "        df_small = pd.DataFrame(histo['Data']).add_suffix('_' + coin_btc).rename(columns={'time_'+coin_btc:'time'})\n",
    "        df_big = pd.merge(df_big, df_small, on='time')\n",
    "    time.sleep(0.5)\n",
    "df_big = df_big.set_index('time')\n",
    "df_big.index = pd.to_datetime(df_big.index, unit='s')"
   ]
  },
  {
   "cell_type": "code",
   "execution_count": 7,
   "metadata": {
    "collapsed": true
   },
   "outputs": [],
   "source": [
    "interested_coin = 'BCN'\n",
    "df_bcn = extract_coin_columns(df=df_big, coin_name=interested_coin)"
   ]
  },
  {
   "cell_type": "code",
   "execution_count": 19,
   "metadata": {},
   "outputs": [
    {
     "data": {
      "text/plain": [
       "1506406200"
      ]
     },
     "execution_count": 19,
     "metadata": {},
     "output_type": "execute_result"
    }
   ],
   "source": [
    "int(time.mktime(min(df_bcn.index).timetuple()))"
   ]
  },
  {
   "cell_type": "code",
   "execution_count": 10,
   "metadata": {},
   "outputs": [
    {
     "data": {
      "text/plain": [
       "Timestamp('2017-09-27 17:30:00')"
      ]
     },
     "execution_count": 10,
     "metadata": {},
     "output_type": "execute_result"
    }
   ],
   "source": [
    "max(df_bcn.index)"
   ]
  },
  {
   "cell_type": "code",
   "execution_count": 33,
   "metadata": {},
   "outputs": [
    {
     "name": "stdout",
     "output_type": "stream",
     "text": [
      "get_returnTradeHistory request: https://poloniex.com/public?command=returnTradeHistory&currencyPair=BTC_BCN&start=1506406200&end=1506526200\n"
     ]
    }
   ],
   "source": [
    "### download tradeHistory\n",
    "t_min = int(time.mktime(min(df_bcn.index).timetuple()))\n",
    "t_max = int(time.mktime(max(df_bcn.index).timetuple()))\n",
    "trades = down.get_returnTradeHistory_json(['BTC', 'BCN'], t_min, t_max)\n",
    "df = pd.DataFrame(trades)"
   ]
  },
  {
   "cell_type": "code",
   "execution_count": null,
   "metadata": {
    "collapsed": true
   },
   "outputs": [],
   "source": []
  },
  {
   "cell_type": "code",
   "execution_count": null,
   "metadata": {
    "collapsed": true
   },
   "outputs": [],
   "source": []
  },
  {
   "cell_type": "code",
   "execution_count": null,
   "metadata": {
    "collapsed": true
   },
   "outputs": [],
   "source": []
  },
  {
   "cell_type": "code",
   "execution_count": null,
   "metadata": {
    "collapsed": true
   },
   "outputs": [],
   "source": []
  },
  {
   "cell_type": "code",
   "execution_count": null,
   "metadata": {
    "collapsed": true
   },
   "outputs": [],
   "source": []
  },
  {
   "cell_type": "code",
   "execution_count": null,
   "metadata": {
    "collapsed": true
   },
   "outputs": [],
   "source": [
    "#df_bcn.to_csv('df_bcn.csv')"
   ]
  },
  {
   "cell_type": "code",
   "execution_count": null,
   "metadata": {
    "scrolled": true
   },
   "outputs": [],
   "source": [
    "df_bcn.head(5)"
   ]
  },
  {
   "cell_type": "code",
   "execution_count": null,
   "metadata": {},
   "outputs": [],
   "source": [
    "df_bcn.tail(5)"
   ]
  },
  {
   "cell_type": "code",
   "execution_count": null,
   "metadata": {
    "collapsed": true
   },
   "outputs": [],
   "source": [
    "df_bcn['open_BCN_diff'] = 100*df_bcn.open_BCN.diff()/df_bcn.open_BCN    #df_bcn.open_BCN.shift(1)/df_bcn.open_BCN\n",
    "df_bcn.open_BCN_diff = df_bcn.open_BCN_diff.fillna(value=0)"
   ]
  },
  {
   "cell_type": "code",
   "execution_count": null,
   "metadata": {
    "scrolled": false
   },
   "outputs": [],
   "source": [
    "df_bcn.open_BCN_diff.head(100).plot(figsize=(30,10), yticks=np.round(np.arange(min(df_bcn.open_BCN_diff)-1, max(df_bcn.open_BCN_diff)+1, 1)), grid=True)"
   ]
  },
  {
   "cell_type": "code",
   "execution_count": null,
   "metadata": {
    "collapsed": true
   },
   "outputs": [],
   "source": []
  },
  {
   "cell_type": "code",
   "execution_count": null,
   "metadata": {},
   "outputs": [],
   "source": [
    "import virtual_market\n",
    "importlib.reload(virtual_market)"
   ]
  },
  {
   "cell_type": "code",
   "execution_count": null,
   "metadata": {
    "scrolled": true
   },
   "outputs": [],
   "source": [
    "buy = pd.DataFrame(df_bcn.open_BCN_diff[df_bcn.open_BCN_diff < -2])\n",
    "buy['Type'] = 'buy'\n",
    "sell = pd.DataFrame(df_bcn.open_BCN_diff[df_bcn.open_BCN_diff > 2])\n",
    "sell['Type'] = 'sell'\n",
    "buysell = buy.append(sell).sort_index()\n",
    "\n",
    "print(buysell[buysell.Type == 'sell'].shape[0])\n",
    "print(buysell[buysell.Type == 'buy'].shape[0])\n",
    "\n",
    "buysell['Value'] = df_bcn.open_BCN[buysell.index]\n",
    "\n",
    "market = virtual_market.Market(max_opens=10)\n",
    "market.manual_add_to_status('BCN', 120000)\n",
    "market.print_have_not_null()\n",
    "amount = 40000\n",
    "\n",
    "buysell_dont = 0\n",
    "buysell_done = 0\n",
    "\n",
    "print_period = 10000\n",
    "\n",
    "num_of_complete = 0\n",
    "\n",
    "verbose = False\n",
    "\n",
    "print()\n",
    "market.print_have(['USD'])\n",
    "print()\n",
    "\n",
    "for index, row in buysell.iterrows():\n",
    "    #print()\n",
    "    #print(index, row['Type'], row['open_BCN_diff'], row['Value'])\n",
    "    if row['Type'] == 'sell':\n",
    "        res = market.sell_bcn(coin_name='BCN', amount=amount, price_btc=row['Value'], verbose=verbose)\n",
    "        if not res:\n",
    "            buysell_dont += 1\n",
    "        else:\n",
    "            buysell_done += 1\n",
    "    if row['Type'] == 'buy':\n",
    "        res = market.buy_bcn(coin_name='BCN', amount=amount, price_btc=row['Value'], verbose=verbose)\n",
    "        if not res:\n",
    "            buysell_dont += 1\n",
    "        else:\n",
    "            buysell_done += 1\n",
    "    num_of_complete += 1\n",
    "    if num_of_complete % print_period == 0:\n",
    "        #print()\n",
    "        market.print_have(['USD'])\n",
    "\n",
    "print()\n",
    "market.print_have_not_null()\n",
    "print()\n",
    "market.print_have(['USD'])\n",
    "print()\n",
    "print('buysell_dont:', buysell_dont)\n",
    "print('buysell_done:', buysell_done)"
   ]
  },
  {
   "cell_type": "code",
   "execution_count": null,
   "metadata": {
    "collapsed": true
   },
   "outputs": [],
   "source": []
  },
  {
   "cell_type": "code",
   "execution_count": null,
   "metadata": {
    "collapsed": true
   },
   "outputs": [],
   "source": []
  },
  {
   "cell_type": "code",
   "execution_count": null,
   "metadata": {
    "collapsed": true
   },
   "outputs": [],
   "source": []
  },
  {
   "cell_type": "code",
   "execution_count": null,
   "metadata": {
    "collapsed": true
   },
   "outputs": [],
   "source": []
  },
  {
   "cell_type": "code",
   "execution_count": null,
   "metadata": {
    "collapsed": true
   },
   "outputs": [],
   "source": []
  },
  {
   "cell_type": "code",
   "execution_count": null,
   "metadata": {
    "collapsed": true
   },
   "outputs": [],
   "source": []
  },
  {
   "cell_type": "code",
   "execution_count": null,
   "metadata": {
    "collapsed": true
   },
   "outputs": [],
   "source": [
    "status = dict()\n",
    "for coin_btc in coins_list_btc:\n",
    "    status[coin_btc] = 0\n",
    "status['BCN'] = 925\n",
    "status['BTC'] = 0.00019971\n",
    "status['ETH'] = 0.31975971\n",
    "status['XMR'] = 0.74184108"
   ]
  },
  {
   "cell_type": "code",
   "execution_count": null,
   "metadata": {},
   "outputs": [],
   "source": [
    "for status_coin in status:\n",
    "    amount = status[status_coin]\n",
    "    if amount > 0:\n",
    "        print(status_coin, amount)"
   ]
  },
  {
   "cell_type": "code",
   "execution_count": null,
   "metadata": {
    "collapsed": true
   },
   "outputs": [],
   "source": [
    "def print_have_USD(currencies=['BTC', 'USD', 'CZK']):\n",
    "    down = down_data.Downloader()\n",
    "    coins_btc_price = down.get_pricemulti_json(coins_list_btc, ['BTC'], verbose=False)\n",
    "    btc_price = down.get_pricemulti_json(['BTC'], ['USD'], verbose=False)['BTC']['USD']\n",
    "    sum_btc = 0\n",
    "    for status_coin in status:\n",
    "        if status_coin != 'BTC':\n",
    "            sum_btc += coins_btc_price[status_coin]['BTC']*status[status_coin]\n",
    "        #print(status_coin, sum_btc)\n",
    "        \n",
    "    sum_btc += status['BTC']\n",
    "    \n",
    "    print('Total status:')\n",
    "    if 'BTC' in currencies:\n",
    "        print('BTC:', sum_btc)\n",
    "    if 'USD' in currencies:\n",
    "        print('USD:', sum_btc*btc_price)\n",
    "    if 'CZK' in currencies:\n",
    "        print('CZK:', sum_btc*btc_price*22)"
   ]
  },
  {
   "cell_type": "code",
   "execution_count": null,
   "metadata": {
    "scrolled": false
   },
   "outputs": [],
   "source": [
    "print_have_USD(['BTC'])"
   ]
  },
  {
   "cell_type": "code",
   "execution_count": null,
   "metadata": {
    "collapsed": true
   },
   "outputs": [],
   "source": []
  },
  {
   "cell_type": "code",
   "execution_count": null,
   "metadata": {
    "collapsed": true
   },
   "outputs": [],
   "source": []
  },
  {
   "cell_type": "code",
   "execution_count": null,
   "metadata": {
    "collapsed": true
   },
   "outputs": [],
   "source": []
  },
  {
   "cell_type": "code",
   "execution_count": null,
   "metadata": {
    "collapsed": true
   },
   "outputs": [],
   "source": []
  },
  {
   "cell_type": "code",
   "execution_count": null,
   "metadata": {
    "collapsed": true
   },
   "outputs": [],
   "source": []
  },
  {
   "cell_type": "code",
   "execution_count": null,
   "metadata": {
    "collapsed": true
   },
   "outputs": [],
   "source": []
  },
  {
   "cell_type": "code",
   "execution_count": null,
   "metadata": {
    "collapsed": true
   },
   "outputs": [],
   "source": []
  },
  {
   "cell_type": "code",
   "execution_count": null,
   "metadata": {
    "collapsed": true
   },
   "outputs": [],
   "source": []
  }
 ],
 "metadata": {
  "kernelspec": {
   "display_name": "Python 3",
   "language": "python",
   "name": "python3"
  },
  "language_info": {
   "codemirror_mode": {
    "name": "ipython",
    "version": 3
   },
   "file_extension": ".py",
   "mimetype": "text/x-python",
   "name": "python",
   "nbconvert_exporter": "python",
   "pygments_lexer": "ipython3",
   "version": "3.6.1"
  }
 },
 "nbformat": 4,
 "nbformat_minor": 2
}
